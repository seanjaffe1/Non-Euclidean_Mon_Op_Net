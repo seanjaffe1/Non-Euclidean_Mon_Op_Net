{
 "cells": [
  {
   "cell_type": "code",
   "execution_count": 3,
   "metadata": {},
   "outputs": [],
   "source": [
    "import torch\n",
    "import torch.nn.functional as F\n",
    "import numpy as np"
   ]
  },
  {
   "cell_type": "code",
   "execution_count": 44,
   "metadata": {},
   "outputs": [],
   "source": [
    "torch.manual_seed(42)\n",
    "out_channels = 3\n",
    "in_channels =2\n",
    "h=2\n",
    "w=3\n",
    "weight = torch.rand([out_channels, in_channels, h, w])"
   ]
  },
  {
   "cell_type": "code",
   "execution_count": 45,
   "metadata": {},
   "outputs": [
    {
     "name": "stdout",
     "output_type": "stream",
     "text": [
      "torch.Size([1, 2, 6, 6]) torch.Size([3, 2, 2, 3])\n"
     ]
    }
   ],
   "source": [
    "image = torch.eye(6)[None, None, :].expand(-1,in_channels, -1, -1)\n",
    "print(image.shape, weight.shape)\n",
    "out = F.conv2d(input=image, weight=weight)"
   ]
  },
  {
   "cell_type": "code",
   "execution_count": 51,
   "metadata": {},
   "outputs": [
    {
     "data": {
      "text/plain": [
       "tensor([7.7831, 6.8006, 5.1290])"
      ]
     },
     "execution_count": 51,
     "metadata": {},
     "output_type": "execute_result"
    }
   ],
   "source": [
    "torch.sum(weight, axis=(1,2,3))"
   ]
  },
  {
   "cell_type": "code",
   "execution_count": 56,
   "metadata": {},
   "outputs": [
    {
     "name": "stdout",
     "output_type": "stream",
     "text": [
      "tensor(0.9593)\n",
      "tensor([[4.1308, 3.6523],\n",
      "        [4.0670, 2.7336],\n",
      "        [1.4863, 3.6427]])\n",
      "tensor([7.7831, 6.8006, 5.1290])\n",
      "tensor([ 9.6841, 10.0286])\n"
     ]
    }
   ],
   "source": [
    "print(torch.max(torch.abs(weight)))\n",
    "\n",
    "print(torch.sum(torch.abs(weight), axis=(2,3)))\n",
    "print(torch.sum(torch.abs(weight), axis=(1, 2,3)))\n",
    "print(torch.sum(torch.abs(weight), axis=(0, 2,3)))"
   ]
  },
  {
   "cell_type": "code",
   "execution_count": 28,
   "metadata": {},
   "outputs": [],
   "source": []
  },
  {
   "cell_type": "code",
   "execution_count": 31,
   "metadata": {},
   "outputs": [
    {
     "data": {
      "text/plain": [
       "tensor([[1., 0., 0., 0., 0., 0.],\n",
       "        [0., 1., 0., 0., 0., 0.],\n",
       "        [0., 0., 1., 0., 0., 0.],\n",
       "        [0., 0., 0., 1., 0., 0.],\n",
       "        [0., 0., 0., 0., 1., 0.],\n",
       "        [0., 0., 0., 0., 0., 1.]])"
      ]
     },
     "execution_count": 31,
     "metadata": {},
     "output_type": "execute_result"
    }
   ],
   "source": [
    "image = torch.eye(6).expand()"
   ]
  },
  {
   "cell_type": "code",
   "execution_count": null,
   "metadata": {},
   "outputs": [],
   "source": []
  }
 ],
 "metadata": {
  "interpreter": {
   "hash": "edefba83b3ee898e62ad0b0bd9d52af6e1d14efd698e5af91e164d34147c4a83"
  },
  "kernelspec": {
   "display_name": "Python 3.8.12 ('koopman')",
   "language": "python",
   "name": "python3"
  },
  "language_info": {
   "codemirror_mode": {
    "name": "ipython",
    "version": 3
   },
   "file_extension": ".py",
   "mimetype": "text/x-python",
   "name": "python",
   "nbconvert_exporter": "python",
   "pygments_lexer": "ipython3",
   "version": "3.8.12"
  },
  "orig_nbformat": 4
 },
 "nbformat": 4,
 "nbformat_minor": 2
}
